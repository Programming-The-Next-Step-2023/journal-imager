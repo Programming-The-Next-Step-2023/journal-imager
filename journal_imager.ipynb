{
 "cells": [
  {
   "attachments": {},
   "cell_type": "markdown",
   "metadata": {},
   "source": [
    "# Journal Imager Vignette\n",
    "\n",
    "This notebook provides a brief overview of my Journal Imager app. The app allows users to record daily journal entries and generate unique images based on these entries.\n",
    "\n",
    "Built using Python, Dash, Flask and ngrok.\n",
    "\n",
    "<br>\n",
    "\n",
    "## Installation\n",
    "The app is available on GitHub, and can be installed using the following command:\n",
    "    \n",
    "```sh\n",
    "pip install git+https://github.com/Programming-The-Next-Step-2023/journal_imager\n",
    "```\n",
    "\n",
    "<br>\n",
    "\n",
    "Ensure you have the necessary Python packages installed in your environment. This application depends on the following packages:\n",
    "\n",
    "- dash\n",
    "- gensim\n",
    "- natsort\n",
    "- nltk\n",
    "- numpy\n",
    "- pandas\n",
    "- Pillow\n",
    "- Requests\n",
    "- scipy\n",
    "- re\n",
    "- pathlib\n",
    "- ipython\n",
    "\n",
    "You can install these packages using pip:\n",
    "\n",
    "```sh\n",
    "pip install dash gensim natsort nltk numpy Pillow Requests scipy re pathlib ipython\n",
    "```"
   ]
  },
  {
   "attachments": {},
   "cell_type": "markdown",
   "metadata": {},
   "source": [
    "<br>"
   ]
  },
  {
   "attachments": {},
   "cell_type": "markdown",
   "metadata": {},
   "source": [
    "## Usage\n",
    "1. **Running the app**: To run the app, start a Terminal session in the directory where you installed the app and run an iPython session:\n",
    "\n",
    "    ```sh\n",
    "    ipython\n",
    "    ```\n",
    "\n",
    "    In the iPython session, run the following commands:\n",
    "\n",
    "    ```sh\n",
    "    %run src/journal_imager/app.py\n",
    "    ```\n",
    "\n",
    "    This will start the app on your local machine. You should see a message similar to the following:\n",
    "    ```\n",
    "    Dash is running on http://127.0.0.1:8050/\n",
    "\n",
    "2. **Journaling**: Enter a journal entry and press the \"Enter\" key. You will see your entry appear in the journal. You can enter as many entries as you like. If you wish to delete an entry, click on the \"✕\" mark next to it. All entries are saved (in `.csv` format, in the `./src/journal_imager/journal_entries` directory) and you can see them again when you re-open the app. You can also go through your past entries by changing the date in the date picker.\n",
    "\n",
    "3. **Imaging (and set-up)**: Once you have entered at least one journal entry, you can generate an image based on your entries. For this to work, you must first run [this Google Colab notebook](https://colab.research.google.com/drive/1PrUchYM-GOhSCxK9tmj8AgLrcXfZBhfO) (follow the instructions there, too). Once the notebook is running, the app will be able to generate images based on your journal entries. Toggle the image settings to your liking, paste the ngrok URL into the box, and then click the \"Generate Image\" button. You will see your image appear below your journal entries.\n",
    "- _Note!_ Your first imaging attempt will take a while (1-5min), as the app needs to download the necessary files to process your text. Subsequent attempts will be much faster.  \n",
    "\n",
    "4. **Saving your image**: All images are saved in the `./src/journal_imager/assets/gen_images` directory. If you'd like, you can also right-click on an image and select \"Save Image As...\". You can then save the image to any desired location on your computer.\n",
    "\n"
   ]
  },
  {
   "attachments": {},
   "cell_type": "markdown",
   "metadata": {},
   "source": [
    "<br>"
   ]
  },
  {
   "attachments": {},
   "cell_type": "markdown",
   "metadata": {},
   "source": [
    "## App Layout\n",
    "The application is divided into two main sections:\n",
    "\n",
    "1. **Left Column**: This column is primarily for user input and controls. It allows you to add journal entries, select dates, and control image generation settings.\n",
    "\n",
    "2. **Right Column**: This column is used for displaying the recorded journal entries and generated images.\n",
    "\n",
    "![alt text](example.png \"Example Image\")"
   ]
  },
  {
   "attachments": {},
   "cell_type": "markdown",
   "metadata": {},
   "source": [
    "<br>"
   ]
  },
  {
   "attachments": {},
   "cell_type": "markdown",
   "metadata": {},
   "source": [
    "## Code Overview\n",
    "The application code is structured into four sections:\n",
    "\n",
    "1. **Imports**: All necessary packages and modules are imported at the beginning.\n",
    "\n",
    "2. **Initialization**: The Dash application is initialized and the necessary directories are created.\n",
    "\n",
    "3. **Layout**: The layout of the Dash application is defined.\n",
    "\n",
    "4. **Callbacks**: Dash callbacks are used to dynamically update the application based on user input."
   ]
  },
  {
   "attachments": {},
   "cell_type": "markdown",
   "metadata": {},
   "source": [
    "## Conclusion\n",
    "This application provides a fun, novel and (kind of) easy way to visualize and reflect upon your journal entries. By converting your entries into images, you can gain a new perspective on your thoughts and feelings.\n",
    "\n",
    "Enjoy journaling and the unique images it inspires!"
   ]
  }
 ],
 "metadata": {
  "language_info": {
   "name": "python"
  },
  "orig_nbformat": 4
 },
 "nbformat": 4,
 "nbformat_minor": 2
}
