{
 "cells": [
  {
   "attachments": {},
   "cell_type": "markdown",
   "metadata": {},
   "source": [
    "# Journal Imager HowTo"
   ]
  },
  {
   "attachments": {},
   "cell_type": "markdown",
   "metadata": {},
   "source": [
    "### This is a quick how-to for my Journal Imager app. It is a tool that allows you to quickly and easily create a journal image for your journal entries. (This is still a work in progress, and I'm still working on core features)"
   ]
  },
  {
   "attachments": {},
   "cell_type": "markdown",
   "metadata": {},
   "source": [
    "### Requirements:\n",
    "- Python 3.10\n",
    "- 5GB of free space (text and image models are large)"
   ]
  },
  {
   "attachments": {},
   "cell_type": "markdown",
   "metadata": {},
   "source": [
    "### Installation:\n",
    "to be added"
   ]
  },
  {
   "attachments": {},
   "cell_type": "markdown",
   "metadata": {},
   "source": [
    "### App structure:\n",
    "- src/\n",
    "    - journal_imager/\n",
    "        - app.py\n",
    "        - load_glove.py\n",
    "        - update_journal.py\n",
    "        - journal_entries/\n",
    "            - 2023/05/17\n",
    "                - entries.csv\n",
    "            - 2023/05/18\n",
    "                - entries.csv\n",
    "            - ...\n",
    "        - glove.6B/\n",
    "            - glove.6B.50d.txt\n",
    "        - glove.6B.word2vec"
   ]
  },
  {
   "attachments": {},
   "cell_type": "markdown",
   "metadata": {},
   "source": [
    "### Functionality:\n",
    "1. Create an entry\n",
    "    - Update entry\n",
    "2. View past entries\n",
    "3. ..."
   ]
  },
  {
   "attachments": {},
   "cell_type": "markdown",
   "metadata": {},
   "source": [
    "### What it looks like:"
   ]
  },
  {
   "attachments": {},
   "cell_type": "markdown",
   "metadata": {},
   "source": [
    "![alt text](example.png \"Example\")"
   ]
  },
  {
   "attachments": {},
   "cell_type": "markdown",
   "metadata": {},
   "source": []
  }
 ],
 "metadata": {
  "language_info": {
   "name": "python"
  },
  "orig_nbformat": 4
 },
 "nbformat": 4,
 "nbformat_minor": 2
}
